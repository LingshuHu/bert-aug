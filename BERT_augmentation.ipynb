{
 "cells": [
  {
   "cell_type": "code",
   "execution_count": 1,
   "id": "d96d9f17",
   "metadata": {},
   "outputs": [
    {
     "name": "stderr",
     "output_type": "stream",
     "text": [
      "/home/lingshu/anaconda3/envs/ml2/lib/python3.10/site-packages/torch/cuda/__init__.py:83: UserWarning: CUDA initialization: The NVIDIA driver on your system is too old (found version 9010). Please update your GPU driver by downloading and installing a new version from the URL: http://www.nvidia.com/Download/index.aspx Alternatively, go to: https://pytorch.org to install a PyTorch version that has been compiled with your version of the CUDA driver. (Triggered internally at  ../c10/cuda/CUDAFunctions.cpp:109.)\n",
      "  return torch._C._cuda_getDeviceCount() > 0\n",
      "2022-12-15 00:26:22.712566: W tensorflow/stream_executor/platform/default/dso_loader.cc:64] Could not load dynamic library 'libcudart.so.11.0'; dlerror: libcudart.so.11.0: cannot open shared object file: No such file or directory; LD_LIBRARY_PATH: /usr/local/cuda-10.0/lib64\n",
      "2022-12-15 00:26:22.712584: I tensorflow/stream_executor/cuda/cudart_stub.cc:29] Ignore above cudart dlerror if you do not have a GPU set up on your machine.\n"
     ]
    }
   ],
   "source": [
    "from transformers import pipeline\n",
    "from transformers import BertTokenizer\n",
    "import random\n",
    "import numpy as np\n",
    "import string\n",
    "import pandas as pd"
   ]
  },
  {
   "cell_type": "code",
   "execution_count": 2,
   "id": "d1cc9a48",
   "metadata": {},
   "outputs": [],
   "source": [
    "class BERT_aug:\n",
    "    \"\"\"\n",
    "    Use BERT MLM to augment data.\n",
    "    Typical usage: :: \n",
    "        >>> aug_model = BERT_aug('path/to/gensim/model'or 'BERT MLM itself')\n",
    "        >>> aug_model.augment('I love school')\n",
    "        i adore school\n",
    "    \"\"\"\n",
    "    \n",
    "    def __init__(self, **kwargs):\n",
    "        \"\"\"\n",
    "        A method to initialize a model on a given path.\n",
    "        :type random_state: int, float, str, bytes, bytearray\n",
    "        :param random_state: seed\n",
    "        :param model: The path to the model or the model itself.\n",
    "        :type runs: int, optional\n",
    "        :param runs: The number of times to augment a sentence. By default is 1.\n",
    "        :type p: float, optional\n",
    "        :param p: The probability of success of an individual trial. (0<p<=1), default is 0.5\n",
    "        \"\"\"\n",
    "\n",
    "        # Set random state\n",
    "        if 'random_state' in kwargs:\n",
    "            self.random_state = kwargs['random_state']\n",
    "            if isinstance(self.random_state, int):\n",
    "                random.seed(self.random_state)\n",
    "                np.random.seed(self.random_state)\n",
    "            else:\n",
    "                raise TypeError(\"random_state must have type int\")\n",
    "\n",
    "        try:\n",
    "            if \"p\" in kwargs:\n",
    "                self.p = kwargs['p']                \n",
    "            else:\n",
    "                kwargs['p'] = 0.5  # Set default value\n",
    "        except KeyError:\n",
    "            raise\n",
    "\n",
    "        # Error handling of given parameters\n",
    "        try:\n",
    "            if \"runs\" not in kwargs:\n",
    "                kwargs[\"runs\"] = 1  # Default value for runs\n",
    "            elif type(kwargs[\"runs\"]) is not int:\n",
    "                raise TypeError(\"DataType for 'runs' must be an integer\")\n",
    "            if \"model\" not in kwargs:\n",
    "                raise ValueError(\"Set the value of model. e.g model='path/to/model' or model itself\")\n",
    "        except (ValueError, TypeError):\n",
    "            raise\n",
    "        else:\n",
    "            self.runs = kwargs[\"runs\"] \n",
    "            self.model = kwargs[\"model\"]\n",
    "            self.p = kwargs[\"p\"]\n",
    "\n",
    "\n",
    "    def geometric(self, data):\n",
    "        \"\"\"\n",
    "        Used to generate Geometric distribution.\n",
    "        :type data: list\n",
    "        :param data: Input data\n",
    "        :rtype:   ndarray or scalar\n",
    "        :return:  Drawn samples from the parameterized Geometric distribution.\n",
    "        \"\"\"\n",
    "\n",
    "        data = np.array(data)\n",
    "        first_trial = np.random.geometric(p=self.p, size=data.shape[0]) == 1  # Capture success after first trial\n",
    "        return data[first_trial]\n",
    "\n",
    "    def augment(self, data):\n",
    "        \"\"\"\n",
    "        The method to replace words with similar words.\n",
    "        \n",
    "        :type data: str\n",
    "        :param data: Input data\n",
    "        :rtype:   str\n",
    "        :return:  The augmented data\n",
    "        \"\"\"\n",
    "        \n",
    "        # Avoid nulls and other unsupported types\n",
    "        if type(data) is not str: \n",
    "            raise TypeError(\"Only strings are supported\")\n",
    "        # get punctuations\n",
    "        puncs = string.punctuation\n",
    "        # Tokenize\n",
    "        data_tokens = tokenizer.basic_tokenizer.tokenize(data.lower())\n",
    "        # append a period if no punctuations at the the end\n",
    "        if data_tokens[-1] not in puncs:\n",
    "            data_tokens.append('.')\n",
    "        data_tokens_idx = [[x, y] for (x, y) in enumerate(data_tokens)]  # Enumerate data\n",
    "        \n",
    "        # Randomly replace some words\n",
    "        for _ in range(self.runs):\n",
    "            data_tokens_idx_no_puncs = [[idx, w] for idx, w in data_tokens_idx if w not in puncs]\n",
    "            words = self.geometric(data=data_tokens_idx_no_puncs).tolist()  # List of words indexed\n",
    "            data_tokens2 = data_tokens.copy() # copy the tokens. Use the original tokens for prediction\n",
    "            for w in words:\n",
    "                data_tokens3 = data_tokens2.copy() # copy the tokens. only mask one token each time\n",
    "                data_tokens3[int(w[0])] = '[MASK]' # only mask words, not punctuations\n",
    "                sentence = \" \".join(data_tokens3)\n",
    "                pred_words = self.model(sentence) # make prediction with punctuations\n",
    "                similar_words = [item['token_str'] for item in pred_words]\n",
    "                similar_words_weights = [item['score'] for item in pred_words]\n",
    "                word = random.choices(similar_words, similar_words_weights, k=1) # choose words based on weights\n",
    "                data_tokens[int(w[0])] = word[0].lower() # Replace with a predicted word\n",
    "        \n",
    "        return \" \".join(data_tokens)"
   ]
  },
  {
   "cell_type": "code",
   "execution_count": 3,
   "id": "f799b535",
   "metadata": {},
   "outputs": [
    {
     "name": "stderr",
     "output_type": "stream",
     "text": [
      "2022-12-15 00:26:39.611394: I tensorflow/stream_executor/cuda/cuda_gpu_executor.cc:975] successful NUMA node read from SysFS had negative value (-1), but there must be at least one NUMA node, so returning NUMA node zero\n",
      "2022-12-15 00:26:39.612638: W tensorflow/stream_executor/platform/default/dso_loader.cc:64] Could not load dynamic library 'libcudart.so.11.0'; dlerror: libcudart.so.11.0: cannot open shared object file: No such file or directory; LD_LIBRARY_PATH: /usr/local/cuda-10.0/lib64\n",
      "2022-12-15 00:26:39.612751: W tensorflow/stream_executor/platform/default/dso_loader.cc:64] Could not load dynamic library 'libcublas.so.11'; dlerror: libcublas.so.11: cannot open shared object file: No such file or directory; LD_LIBRARY_PATH: /usr/local/cuda-10.0/lib64\n",
      "2022-12-15 00:26:39.612853: W tensorflow/stream_executor/platform/default/dso_loader.cc:64] Could not load dynamic library 'libcublasLt.so.11'; dlerror: libcublasLt.so.11: cannot open shared object file: No such file or directory; LD_LIBRARY_PATH: /usr/local/cuda-10.0/lib64\n",
      "2022-12-15 00:26:39.612958: W tensorflow/stream_executor/platform/default/dso_loader.cc:64] Could not load dynamic library 'libcufft.so.10'; dlerror: libcufft.so.10: cannot open shared object file: No such file or directory; LD_LIBRARY_PATH: /usr/local/cuda-10.0/lib64\n",
      "2022-12-15 00:26:39.613060: W tensorflow/stream_executor/platform/default/dso_loader.cc:64] Could not load dynamic library 'libcurand.so.10'; dlerror: libcurand.so.10: cannot open shared object file: No such file or directory; LD_LIBRARY_PATH: /usr/local/cuda-10.0/lib64\n",
      "2022-12-15 00:26:39.613162: W tensorflow/stream_executor/platform/default/dso_loader.cc:64] Could not load dynamic library 'libcusolver.so.11'; dlerror: libcusolver.so.11: cannot open shared object file: No such file or directory; LD_LIBRARY_PATH: /usr/local/cuda-10.0/lib64\n",
      "2022-12-15 00:26:39.613264: W tensorflow/stream_executor/platform/default/dso_loader.cc:64] Could not load dynamic library 'libcusparse.so.11'; dlerror: libcusparse.so.11: cannot open shared object file: No such file or directory; LD_LIBRARY_PATH: /usr/local/cuda-10.0/lib64\n",
      "2022-12-15 00:26:39.613366: W tensorflow/stream_executor/platform/default/dso_loader.cc:64] Could not load dynamic library 'libcudnn.so.8'; dlerror: libcudnn.so.8: cannot open shared object file: No such file or directory; LD_LIBRARY_PATH: /usr/local/cuda-10.0/lib64\n",
      "2022-12-15 00:26:39.613381: W tensorflow/core/common_runtime/gpu/gpu_device.cc:1850] Cannot dlopen some GPU libraries. Please make sure the missing libraries mentioned above are installed properly if you would like to use GPU. Follow the guide at https://www.tensorflow.org/install/gpu for how to download and setup the required libraries for your platform.\n",
      "Skipping registering GPU devices...\n",
      "2022-12-15 00:26:39.613761: I tensorflow/core/platform/cpu_feature_guard.cc:193] This TensorFlow binary is optimized with oneAPI Deep Neural Network Library (oneDNN) to use the following CPU instructions in performance-critical operations:  AVX2 FMA\n",
      "To enable them in other operations, rebuild TensorFlow with the appropriate compiler flags.\n",
      "Some weights of the model checkpoint at bert-base-uncased were not used when initializing BertForMaskedLM: ['cls.seq_relationship.bias', 'cls.seq_relationship.weight']\n",
      "- This IS expected if you are initializing BertForMaskedLM from the checkpoint of a model trained on another task or with another architecture (e.g. initializing a BertForSequenceClassification model from a BertForPreTraining model).\n",
      "- This IS NOT expected if you are initializing BertForMaskedLM from the checkpoint of a model that you expect to be exactly identical (initializing a BertForSequenceClassification model from a BertForSequenceClassification model).\n"
     ]
    }
   ],
   "source": [
    "# initialize the tokenizer\n",
    "tokenizer = BertTokenizer.from_pretrained(\"bert-base-uncased\")\n",
    "# initialize BERT masked language model\n",
    "bert_mlm_model = pipeline('fill-mask', model='bert-base-uncased', top_k = 10)"
   ]
  },
  {
   "cell_type": "markdown",
   "id": "4639f186",
   "metadata": {},
   "source": [
    "### Augment one document"
   ]
  },
  {
   "cell_type": "code",
   "execution_count": 4,
   "id": "63b6c2ad",
   "metadata": {},
   "outputs": [
    {
     "data": {
      "text/plain": [
       "'once again mr . grey had put in the confession for much longer than usual .'"
      ]
     },
     "execution_count": 4,
     "metadata": {},
     "output_type": "execute_result"
    }
   ],
   "source": [
    "aug_model = BERT_aug(model=bert_mlm_model, runs=1, p=1, random_state = 123)\n",
    "aug_model.augment('Once again Mr. Costner has dragged out a movie for far longer than necessary.')"
   ]
  },
  {
   "cell_type": "markdown",
   "id": "73ec5900",
   "metadata": {},
   "source": [
    "### Augment documents in a dataframe"
   ]
  },
  {
   "cell_type": "code",
   "execution_count": 5,
   "id": "0123ffb5",
   "metadata": {},
   "outputs": [],
   "source": [
    "minority_texts = {\n",
    "    'id': [1,2,3], \n",
    "    'label': [1,1,1], \n",
    "    'text':[\"Once again Mr. Costner has dragged out a movie for far longer than necessary. Aside from the terrific sea rescue sequences, of which there are very few I just did not care about any of the characters.\",\"This film is absolutely appalling and awful. It's not low budget, it's a no budget film that makes Ed Wood's movies look like art. The acting is abysmal but sets and props are worse then anything I have ever seen.\",\"When I saw the film, I was disappointed. The acting is stilted, and the attempts at comedy are woefully out of place and forced. And I'm sorry, but a boy being chased by a turd in a bedpan is not funny or scary, it's just stupid.\"]\n",
    "} \n",
    "minority_df = pd.DataFrame(minority_texts)"
   ]
  },
  {
   "cell_type": "code",
   "execution_count": 6,
   "id": "3263319d",
   "metadata": {},
   "outputs": [
    {
     "data": {
      "text/html": [
       "<div>\n",
       "<style scoped>\n",
       "    .dataframe tbody tr th:only-of-type {\n",
       "        vertical-align: middle;\n",
       "    }\n",
       "\n",
       "    .dataframe tbody tr th {\n",
       "        vertical-align: top;\n",
       "    }\n",
       "\n",
       "    .dataframe thead th {\n",
       "        text-align: right;\n",
       "    }\n",
       "</style>\n",
       "<table border=\"1\" class=\"dataframe\">\n",
       "  <thead>\n",
       "    <tr style=\"text-align: right;\">\n",
       "      <th></th>\n",
       "      <th>id</th>\n",
       "      <th>label</th>\n",
       "      <th>text</th>\n",
       "    </tr>\n",
       "  </thead>\n",
       "  <tbody>\n",
       "    <tr>\n",
       "      <th>0</th>\n",
       "      <td>1</td>\n",
       "      <td>1</td>\n",
       "      <td>Once again Mr. Costner has dragged out a movie...</td>\n",
       "    </tr>\n",
       "    <tr>\n",
       "      <th>1</th>\n",
       "      <td>2</td>\n",
       "      <td>1</td>\n",
       "      <td>This film is absolutely appalling and awful. I...</td>\n",
       "    </tr>\n",
       "    <tr>\n",
       "      <th>2</th>\n",
       "      <td>3</td>\n",
       "      <td>1</td>\n",
       "      <td>When I saw the film, I was disappointed. The a...</td>\n",
       "    </tr>\n",
       "  </tbody>\n",
       "</table>\n",
       "</div>"
      ],
      "text/plain": [
       "   id  label                                               text\n",
       "0   1      1  Once again Mr. Costner has dragged out a movie...\n",
       "1   2      1  This film is absolutely appalling and awful. I...\n",
       "2   3      1  When I saw the film, I was disappointed. The a..."
      ]
     },
     "execution_count": 6,
     "metadata": {},
     "output_type": "execute_result"
    }
   ],
   "source": [
    "minority_df"
   ]
  },
  {
   "cell_type": "code",
   "execution_count": 7,
   "id": "bc909ad6",
   "metadata": {},
   "outputs": [
    {
     "name": "stdout",
     "output_type": "stream",
     "text": [
      "Augmenting document  1\n",
      "Augmenting document  2\n",
      "Augmenting document  3\n",
      "18.775500297546387\n"
     ]
    }
   ],
   "source": [
    "import time\n",
    "start = time.time()\n",
    "labels = []\n",
    "texts = []\n",
    "ids = []\n",
    "orig = []\n",
    "#change_counts = []\n",
    "for index, row in minority_df.iterrows():\n",
    "    print('Augmenting document ', row['id'])\n",
    "    labels.append(row['label'])\n",
    "    texts.append(row['text'])\n",
    "    orig.append('original')\n",
    "    ids.append(row['id'])\n",
    "    random.seed(123)\n",
    "    for i in range(2):\n",
    "        aug_model = BERT_aug(model=bert_mlm_model, runs=1, p=0.9, random_state = random.randint(1, 9999))\n",
    "        try:\n",
    "            text = aug_model.augment(row['text'])\n",
    "        except AttributeError or HTTPError or ValueError:\n",
    "            text = \"none\"\n",
    "            #words_num = 0\n",
    "        \n",
    "        texts.append(text)\n",
    "        labels.append(row['label'])\n",
    "        orig.append('generated')\n",
    "        ids.append(row['id'])\n",
    "        #change_counts.append(words_num)\n",
    "\n",
    "end = time.time()\n",
    "print(end - start)\n",
    "aug_df = pd.DataFrame(data = zip(ids, texts, labels, orig), \n",
    "                      columns = ['id', 'review', 'label', 'original'])"
   ]
  },
  {
   "cell_type": "code",
   "execution_count": 8,
   "id": "0103ad8f",
   "metadata": {},
   "outputs": [
    {
     "data": {
      "text/html": [
       "<div>\n",
       "<style scoped>\n",
       "    .dataframe tbody tr th:only-of-type {\n",
       "        vertical-align: middle;\n",
       "    }\n",
       "\n",
       "    .dataframe tbody tr th {\n",
       "        vertical-align: top;\n",
       "    }\n",
       "\n",
       "    .dataframe thead th {\n",
       "        text-align: right;\n",
       "    }\n",
       "</style>\n",
       "<table border=\"1\" class=\"dataframe\">\n",
       "  <thead>\n",
       "    <tr style=\"text-align: right;\">\n",
       "      <th></th>\n",
       "      <th>id</th>\n",
       "      <th>review</th>\n",
       "      <th>label</th>\n",
       "      <th>original</th>\n",
       "    </tr>\n",
       "  </thead>\n",
       "  <tbody>\n",
       "    <tr>\n",
       "      <th>0</th>\n",
       "      <td>1</td>\n",
       "      <td>Once again Mr. Costner has dragged out a movie...</td>\n",
       "      <td>1</td>\n",
       "      <td>original</td>\n",
       "    </tr>\n",
       "    <tr>\n",
       "      <th>1</th>\n",
       "      <td>1</td>\n",
       "      <td>once again mr . andrews had put out the script...</td>\n",
       "      <td>1</td>\n",
       "      <td>generated</td>\n",
       "    </tr>\n",
       "    <tr>\n",
       "      <th>2</th>\n",
       "      <td>1</td>\n",
       "      <td>once again mr . edison had planned on the movi...</td>\n",
       "      <td>1</td>\n",
       "      <td>generated</td>\n",
       "    </tr>\n",
       "    <tr>\n",
       "      <th>3</th>\n",
       "      <td>2</td>\n",
       "      <td>This film is absolutely appalling and awful. I...</td>\n",
       "      <td>1</td>\n",
       "      <td>original</td>\n",
       "    </tr>\n",
       "    <tr>\n",
       "      <th>4</th>\n",
       "      <td>2</td>\n",
       "      <td>this movie is simply terrible and awful . it '...</td>\n",
       "      <td>1</td>\n",
       "      <td>generated</td>\n",
       "    </tr>\n",
       "    <tr>\n",
       "      <th>5</th>\n",
       "      <td>2</td>\n",
       "      <td>this movie is both terrible and disgusting . i...</td>\n",
       "      <td>1</td>\n",
       "      <td>generated</td>\n",
       "    </tr>\n",
       "    <tr>\n",
       "      <th>6</th>\n",
       "      <td>3</td>\n",
       "      <td>When I saw the film, I was disappointed. The a...</td>\n",
       "      <td>1</td>\n",
       "      <td>original</td>\n",
       "    </tr>\n",
       "    <tr>\n",
       "      <th>7</th>\n",
       "      <td>3</td>\n",
       "      <td>when i saw this film , i was shocked . the dia...</td>\n",
       "      <td>1</td>\n",
       "      <td>generated</td>\n",
       "    </tr>\n",
       "    <tr>\n",
       "      <th>8</th>\n",
       "      <td>3</td>\n",
       "      <td>when i saw the film , i was shocked . the dial...</td>\n",
       "      <td>1</td>\n",
       "      <td>generated</td>\n",
       "    </tr>\n",
       "  </tbody>\n",
       "</table>\n",
       "</div>"
      ],
      "text/plain": [
       "   id                                             review  label   original\n",
       "0   1  Once again Mr. Costner has dragged out a movie...      1   original\n",
       "1   1  once again mr . andrews had put out the script...      1  generated\n",
       "2   1  once again mr . edison had planned on the movi...      1  generated\n",
       "3   2  This film is absolutely appalling and awful. I...      1   original\n",
       "4   2  this movie is simply terrible and awful . it '...      1  generated\n",
       "5   2  this movie is both terrible and disgusting . i...      1  generated\n",
       "6   3  When I saw the film, I was disappointed. The a...      1   original\n",
       "7   3  when i saw this film , i was shocked . the dia...      1  generated\n",
       "8   3  when i saw the film , i was shocked . the dial...      1  generated"
      ]
     },
     "execution_count": 8,
     "metadata": {},
     "output_type": "execute_result"
    }
   ],
   "source": [
    "aug_df"
   ]
  },
  {
   "cell_type": "code",
   "execution_count": null,
   "id": "58e96cc8",
   "metadata": {},
   "outputs": [],
   "source": []
  }
 ],
 "metadata": {
  "kernelspec": {
   "display_name": "Python 3",
   "language": "python",
   "name": "python3"
  },
  "language_info": {
   "codemirror_mode": {
    "name": "ipython",
    "version": 3
   },
   "file_extension": ".py",
   "mimetype": "text/x-python",
   "name": "python",
   "nbconvert_exporter": "python",
   "pygments_lexer": "ipython3",
   "version": "3.10.4"
  }
 },
 "nbformat": 4,
 "nbformat_minor": 5
}
